{
 "cells": [
  {
   "cell_type": "code",
   "execution_count": 1,
   "metadata": {},
   "outputs": [],
   "source": [
    "import mytools\n",
    "# import pandas as pd\n",
    "# from pyreadstat import pyreadstat\n",
    "国家认同原始数据, meta = mytools.读取SPSS数据(R'identity.sav')"
   ]
  },
  {
   "cell_type": "code",
   "execution_count": null,
   "metadata": {},
   "outputs": [
    {
     "data": {
      "text/plain": [
       "0.047734885583483926"
      ]
     },
     "execution_count": 2,
     "metadata": {},
     "output_type": "execute_result"
    }
   ],
   "source": [
    "tau_y = mytools.goodmanKruska_tau_y(国家认同原始数据,'年级','政治面貌')\n",
    "tau_y"
   ]
  },
  {
   "cell_type": "code",
   "execution_count": null,
   "metadata": {},
   "outputs": [
    {
     "data": {
      "text/plain": [
       "'极弱相关或无相关'"
      ]
     },
     "execution_count": 3,
     "metadata": {},
     "output_type": "execute_result"
    }
   ],
   "source": [
    "mytools.相关系数强弱判断(tau_y)"
   ]
  },
  {
   "cell_type": "code",
   "execution_count": null,
   "metadata": {},
   "outputs": [
    {
     "ename": "TypeError",
     "evalue": "绘制单个类别变量饼图() takes 2 positional arguments but 3 were given",
     "output_type": "error",
     "traceback": [
      "\u001b[1;31m---------------------------------------------------------------------------\u001b[0m",
      "\u001b[1;31mTypeError\u001b[0m                                 Traceback (most recent call last)",
      "\u001b[1;32mc:\\Users\\86183\\Desktop\\gxx\\11-定序与定序描述统计.ipynb 单元格 4\u001b[0m line \u001b[0;36m1\n\u001b[1;32m----> <a href='vscode-notebook-cell:/c%3A/Users/86183/Desktop/gxx/11-%E5%AE%9A%E5%BA%8F%E4%B8%8E%E5%AE%9A%E5%BA%8F%E6%8F%8F%E8%BF%B0%E7%BB%9F%E8%AE%A1.ipynb#W3sZmlsZQ%3D%3D?line=0'>1</a>\u001b[0m mytools\u001b[39m.\u001b[39;49m绘制单个类别变量饼图(国家认同原始数据,\u001b[39m'\u001b[39;49m\u001b[39m政治面貌\u001b[39;49m\u001b[39m'\u001b[39;49m,\u001b[39m'\u001b[39;49m\u001b[39m年级\u001b[39;49m\u001b[39m'\u001b[39;49m)\n",
      "\u001b[1;31mTypeError\u001b[0m: 绘制单个类别变量饼图() takes 2 positional arguments but 3 were given"
     ]
    }
   ],
   "source": [
    "mytools.绘制单个类别变量饼图(国家认同原始数据,'政治面貌','年级')"
   ]
  }
 ],
 "metadata": {
  "kernelspec": {
   "display_name": "Python 3",
   "language": "python",
   "name": "python3"
  },
  "language_info": {
   "codemirror_mode": {
    "name": "ipython",
    "version": 3
   },
   "file_extension": ".py",
   "mimetype": "text/x-python",
   "name": "python",
   "nbconvert_exporter": "python",
   "pygments_lexer": "ipython3",
   "version": "3.8.10"
  }
 },
 "nbformat": 4,
 "nbformat_minor": 2
}
